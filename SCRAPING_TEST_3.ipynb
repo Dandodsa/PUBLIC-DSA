{
  "cells": [
    {
      "cell_type": "markdown",
      "metadata": {
        "id": "view-in-github",
        "colab_type": "text"
      },
      "source": [
        "<a href=\"https://colab.research.google.com/github/Dandodsa/PUBLIC-DSA/blob/main/SCRAPING_TEST_3.ipynb\" target=\"_parent\"><img src=\"https://colab.research.google.com/assets/colab-badge.svg\" alt=\"Open In Colab\"/></a>"
      ]
    },
    {
      "cell_type": "code",
      "execution_count": null,
      "id": "2e9e6796-2e39-478b-95d4-96023b95e1f4",
      "metadata": {
        "id": "2e9e6796-2e39-478b-95d4-96023b95e1f4"
      },
      "outputs": [],
      "source": [
        "from selenium import webdriver\n",
        "from selenium.webdriver.common.by import By\n",
        "from selenium.webdriver.support.wait import WebDriverWait\n",
        "from selenium.webdriver.support import expected_conditions as EC\n",
        "from webdriver_manager.chrome import ChromeDriverManager\n",
        "\n",
        "from tqdm.notebook import tqdm as tqdmn\n",
        "import pandas as pd"
      ]
    },
    {
      "cell_type": "code",
      "execution_count": null,
      "id": "f774a554-1d8c-4c0b-b98d-e76ba2e7bbf1",
      "metadata": {
        "id": "f774a554-1d8c-4c0b-b98d-e76ba2e7bbf1",
        "outputId": "17fafc33-b989-4126-c06d-3c4034a7fd4a"
      },
      "outputs": [
        {
          "data": {
            "text/html": [
              "<style>.dataframe th{background: rgb(63,87,124);background: linear-gradient(180deg, rgba(63,87,124,1) 0%, rgba(101,124,161,1) 100%, rgba(0,212,255,1) 100%);;\n",
              "padding: 10px;font-family: monospace;font-size: 110%;color: white;border:1px dashed white;text-align:left !important;\n",
              "-moz-border-radius: 3x;-webkit-border-radius: 3px;}.dataframe thead{border:none; !important;}</style>\n"
            ],
            "text/plain": [
              "<IPython.core.display.HTML object>"
            ]
          },
          "metadata": {},
          "output_type": "display_data"
        }
      ],
      "source": [
        "%%HTML\n",
        "<style>.dataframe th{background: rgb(63,87,124);background: linear-gradient(180deg, rgba(63,87,124,1) 0%, rgba(101,124,161,1) 100%, rgba(0,212,255,1) 100%);;\n",
        "padding: 10px;font-family: monospace;font-size: 110%;color: white;border:1px dashed white;text-align:left !important;\n",
        "-moz-border-radius: 3x;-webkit-border-radius: 3px;}.dataframe thead{border:none; !important;}</style>"
      ]
    },
    {
      "cell_type": "code",
      "execution_count": null,
      "id": "f4ed7a70-1fa4-44c6-992d-50e17874ff4f",
      "metadata": {
        "id": "f4ed7a70-1fa4-44c6-992d-50e17874ff4f",
        "outputId": "72444cf5-842a-41ec-a909-412a4510d3fd"
      },
      "outputs": [
        {
          "data": {
            "text/html": [
              "<div>\n",
              "<style scoped>\n",
              "    .dataframe tbody tr th:only-of-type {\n",
              "        vertical-align: middle;\n",
              "    }\n",
              "\n",
              "    .dataframe tbody tr th {\n",
              "        vertical-align: top;\n",
              "    }\n",
              "\n",
              "    .dataframe thead th {\n",
              "        text-align: right;\n",
              "    }\n",
              "</style>\n",
              "<table border=\"1\" class=\"dataframe\">\n",
              "  <thead>\n",
              "    <tr style=\"text-align: right;\">\n",
              "      <th></th>\n",
              "      <th>Name</th>\n",
              "      <th>Link</th>\n",
              "    </tr>\n",
              "  </thead>\n",
              "  <tbody>\n",
              "    <tr>\n",
              "      <th>0</th>\n",
              "      <td>Super Gen St.</td>\n",
              "      <td>https://maps.app.goo.gl/7Z4vaM7vGQzTYqp26</td>\n",
              "    </tr>\n",
              "    <tr>\n",
              "      <th>1</th>\n",
              "      <td>Monaza Eggs</td>\n",
              "      <td>https://maps.app.goo.gl/PgcQgKrKqGaYhGVw7</td>\n",
              "    </tr>\n",
              "    <tr>\n",
              "      <th>2</th>\n",
              "      <td>Aisha Parlour</td>\n",
              "      <td>https://maps.app.goo.gl/TEJVPLKV6RGyEDL6A</td>\n",
              "    </tr>\n",
              "    <tr>\n",
              "      <th>3</th>\n",
              "      <td>Sameer Kirana</td>\n",
              "      <td>https://maps.app.goo.gl/yJ9dFiSKVxrnEpQs9</td>\n",
              "    </tr>\n",
              "    <tr>\n",
              "      <th>4</th>\n",
              "      <td>Ami Bakery</td>\n",
              "      <td>https://maps.app.goo.gl/raLPcVoXq3M5gYnB6</td>\n",
              "    </tr>\n",
              "  </tbody>\n",
              "</table>\n",
              "</div>"
            ],
            "text/plain": [
              "            Name                                       Link\n",
              "0  Super Gen St.  https://maps.app.goo.gl/7Z4vaM7vGQzTYqp26\n",
              "1    Monaza Eggs  https://maps.app.goo.gl/PgcQgKrKqGaYhGVw7\n",
              "2  Aisha Parlour  https://maps.app.goo.gl/TEJVPLKV6RGyEDL6A\n",
              "3  Sameer Kirana  https://maps.app.goo.gl/yJ9dFiSKVxrnEpQs9\n",
              "4     Ami Bakery  https://maps.app.goo.gl/raLPcVoXq3M5gYnB6"
            ]
          },
          "execution_count": 3,
          "metadata": {},
          "output_type": "execute_result"
        }
      ],
      "source": [
        "route = pd.read_excel('Mohammed Amir.xlsx', keep_default_na=False)\n",
        "route.head(5)"
      ]
    },
    {
      "cell_type": "markdown",
      "id": "5100a424-9d4f-4456-ba80-6bf104d817e3",
      "metadata": {
        "id": "5100a424-9d4f-4456-ba80-6bf104d817e3"
      },
      "source": [
        "rot=route.tail(50).copy()\n",
        "rot=rot.head(10).copy()\n",
        "rot.head(10)"
      ]
    },
    {
      "cell_type": "markdown",
      "id": "725c445d-3a95-4712-aa10-ec50edc45609",
      "metadata": {
        "id": "725c445d-3a95-4712-aa10-ec50edc45609"
      },
      "source": [
        "option = webdriver.ChromeOptions()\n",
        "# prefs = {'profile.default_content_setting_values': {'images':2, 'javascript':2}} #Default_3_years_ago\n",
        "prefs = {'profile.default_content_setting_values': {'images':2}}\n",
        "option.add_experimental_option('prefs', prefs)\n",
        "option.add_argument(\"--headless=new\")\n",
        "driver = webdriver.Chrome(\"C:\\\\chromedriver\\chromedriver.exe\", options=option)"
      ]
    },
    {
      "cell_type": "markdown",
      "id": "70ca44ff-a948-4685-af09-b37bfacebce1",
      "metadata": {
        "id": "70ca44ff-a948-4685-af09-b37bfacebce1"
      },
      "source": [
        "options = ChromeOptions()\n",
        "options.add_argument(\"--headless=new\")\n",
        "driver = webdriver.Chrome(options=option)"
      ]
    },
    {
      "cell_type": "code",
      "execution_count": null,
      "id": "f8bb1bf7-f27f-4cac-a80a-19989acecbae",
      "metadata": {
        "colab": {
          "referenced_widgets": [
            "4382c6a3de8d495daedfc3c372184ede"
          ]
        },
        "id": "f8bb1bf7-f27f-4cac-a80a-19989acecbae",
        "outputId": "05408a98-0e2c-4bbc-e53d-df58493d9313"
      },
      "outputs": [
        {
          "name": "stderr",
          "output_type": "stream",
          "text": [
            "C:\\Users\\Yesss\\AppData\\Local\\Temp\\ipykernel_9576\\1166593600.py:5: DeprecationWarning: executable_path has been deprecated, please pass in a Service object\n",
            "  driver = webdriver.Chrome(\"C:\\\\chromedriver\\chromedriver.exe\", options=option)\n"
          ]
        },
        {
          "data": {
            "application/vnd.jupyter.widget-view+json": {
              "model_id": "4382c6a3de8d495daedfc3c372184ede",
              "version_major": 2,
              "version_minor": 0
            },
            "text/plain": [
              "  0%|          | 0/203 [00:00<?, ?it/s]"
            ]
          },
          "metadata": {},
          "output_type": "display_data"
        }
      ],
      "source": [
        "option = webdriver.ChromeOptions()\n",
        "prefs = {'profile.default_content_setting_values': {'images':2}}\n",
        "option.add_experimental_option('prefs', prefs)\n",
        "# option.add_argument(\"--headless=new\")\n",
        "driver = webdriver.Chrome(\"C:\\\\chromedriver\\chromedriver.exe\", options=option)\n",
        "\n",
        "Url_With_Coordinates = []\n",
        "\n",
        "for url in tqdmn(route.Link):\n",
        "    driver.get(url)\n",
        "    driver.implicitly_wait(10) # seconds\n",
        "    try:\n",
        "        xyz=driver.find_element(By.XPATH, \"//h2[contains(@class, 'bwoZTb')]/span\").text\n",
        "        # Url_With_Coordinates.append(driver.find_element_by_css_selector('meta[itemprop=image]').get_attribute('content')) #Default_3_years_ago\n",
        "        Url_With_Coordinates.append(xyz)\n",
        "    except:\n",
        "        xyz=('NULL')\n",
        "        Url_With_Coordinates.append(xyz)\n",
        "\n",
        "driver.close()"
      ]
    },
    {
      "cell_type": "code",
      "execution_count": null,
      "id": "2d27595e-4a0a-4920-bee3-68fcd29ff672",
      "metadata": {
        "id": "2d27595e-4a0a-4920-bee3-68fcd29ff672"
      },
      "outputs": [],
      "source": [
        "import csv\n",
        "\n",
        "with open('Url_With_Coordinates.csv', 'w') as file:\n",
        "    wr = csv.writer(file)\n",
        "    wr.writerow(Url_With_Coordinates)"
      ]
    },
    {
      "cell_type": "code",
      "execution_count": null,
      "id": "f429d5d8-ec90-4ac7-98c6-7764f6b8011e",
      "metadata": {
        "id": "f429d5d8-ec90-4ac7-98c6-7764f6b8011e"
      },
      "outputs": [],
      "source": [
        "import csv\n",
        "\n",
        "with open('Url_With_Coordinates.csv', 'r') as f:\n",
        "    reader = csv.reader(f, delimiter=',')\n",
        "    for i in reader:\n",
        "        Url_With_Coordinates = i\n",
        "        break"
      ]
    },
    {
      "cell_type": "code",
      "execution_count": null,
      "id": "cbd42e04-042b-4576-89e1-41a0858ea4b6",
      "metadata": {
        "id": "cbd42e04-042b-4576-89e1-41a0858ea4b6"
      },
      "outputs": [],
      "source": [
        "route['Url_With_Coordinates'] = Url_With_Coordinates"
      ]
    },
    {
      "cell_type": "code",
      "execution_count": null,
      "id": "f4fbce06-18bd-456d-886e-3f03964da81b",
      "metadata": {
        "id": "f4fbce06-18bd-456d-886e-3f03964da81b"
      },
      "outputs": [],
      "source": [
        "route.to_csv('route.csv')"
      ]
    }
  ],
  "metadata": {
    "kernelspec": {
      "display_name": "Python 3 (ipykernel)",
      "language": "python",
      "name": "python3"
    },
    "language_info": {
      "codemirror_mode": {
        "name": "ipython",
        "version": 3
      },
      "file_extension": ".py",
      "mimetype": "text/x-python",
      "name": "python",
      "nbconvert_exporter": "python",
      "pygments_lexer": "ipython3",
      "version": "3.9.16"
    },
    "colab": {
      "provenance": [],
      "include_colab_link": true
    }
  },
  "nbformat": 4,
  "nbformat_minor": 5
}