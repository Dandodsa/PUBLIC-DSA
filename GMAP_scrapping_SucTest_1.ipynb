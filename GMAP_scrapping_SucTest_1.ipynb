{
  "cells": [
    {
      "cell_type": "markdown",
      "metadata": {
        "id": "view-in-github",
        "colab_type": "text"
      },
      "source": [
        "<a href=\"https://colab.research.google.com/github/Dandodsa/PUBLIC-DSA/blob/main/GMAP_scrapping_SucTest_1.ipynb\" target=\"_parent\"><img src=\"https://colab.research.google.com/assets/colab-badge.svg\" alt=\"Open In Colab\"/></a>"
      ]
    },
    {
      "cell_type": "markdown",
      "id": "5dd05f72-7882-46e8-9c40-1e513c260765",
      "metadata": {
        "id": "5dd05f72-7882-46e8-9c40-1e513c260765"
      },
      "source": [
        "# import necessary libraries"
      ]
    },
    {
      "cell_type": "code",
      "execution_count": null,
      "id": "2e9e6796-2e39-478b-95d4-96023b95e1f4",
      "metadata": {
        "id": "2e9e6796-2e39-478b-95d4-96023b95e1f4"
      },
      "outputs": [],
      "source": [
        "from selenium import webdriver\n",
        "from selenium.webdriver.common.by import By\n",
        "from selenium.webdriver.support.wait import WebDriverWait\n",
        "from selenium.webdriver.support import expected_conditions as EC\n",
        "from webdriver_manager.chrome import ChromeDriverManager\n",
        "\n",
        "from tqdm.notebook import tqdm as tqdmn\n",
        "import pandas as pd\n",
        "import csv"
      ]
    },
    {
      "cell_type": "markdown",
      "id": "5d938020-7ffb-4d91-a927-be3ca5f4f4d5",
      "metadata": {
        "id": "5d938020-7ffb-4d91-a927-be3ca5f4f4d5"
      },
      "source": [
        "# html styling for pandas dataframe"
      ]
    },
    {
      "cell_type": "code",
      "execution_count": null,
      "id": "f774a554-1d8c-4c0b-b98d-e76ba2e7bbf1",
      "metadata": {
        "id": "f774a554-1d8c-4c0b-b98d-e76ba2e7bbf1"
      },
      "outputs": [],
      "source": [
        "%%HTML\n",
        "<style>.dataframe th{background: rgb(63,87,124);background: linear-gradient(180deg, rgba(63,87,124,1) 0%, rgba(101,124,161,1) 100%, rgba(0,212,255,1) 100%);;\n",
        "padding: 10px;font-family: monospace;font-size: 110%;color: white;border:1px dashed white;text-align:left !important;\n",
        "-moz-border-radius: 3x;-webkit-border-radius: 3px;}.dataframe thead{border:none; !important;}</style>"
      ]
    },
    {
      "cell_type": "markdown",
      "id": "490b7545-10c3-4e7c-8e4f-a623b3a37afd",
      "metadata": {
        "id": "490b7545-10c3-4e7c-8e4f-a623b3a37afd"
      },
      "source": [
        "# read xlsx file"
      ]
    },
    {
      "cell_type": "code",
      "execution_count": null,
      "id": "f4ed7a70-1fa4-44c6-992d-50e17874ff4f",
      "metadata": {
        "id": "f4ed7a70-1fa4-44c6-992d-50e17874ff4f"
      },
      "outputs": [],
      "source": [
        "route = pd.read_excel('Mohammed Amir.xlsx', keep_default_na=False)\n",
        "route.head(5)"
      ]
    },
    {
      "cell_type": "markdown",
      "id": "5100a424-9d4f-4456-ba80-6bf104d817e3",
      "metadata": {
        "id": "5100a424-9d4f-4456-ba80-6bf104d817e3"
      },
      "source": [
        "# prototyping with 10 rows\n",
        "rot=route.tail(50).copy()\n",
        "rot=rot.head(10).copy()\n",
        "rot.head(10)"
      ]
    },
    {
      "cell_type": "markdown",
      "id": "725c445d-3a95-4712-aa10-ec50edc45609",
      "metadata": {
        "id": "725c445d-3a95-4712-aa10-ec50edc45609"
      },
      "source": [
        "option = webdriver.ChromeOptions()\n",
        "# prefs = {'profile.default_content_setting_values': {'images':2, 'javascript':2}} #Default_3_years_ago\n",
        "prefs = {'profile.default_content_setting_values': {'images':2}}\n",
        "option.add_experimental_option('prefs', prefs)\n",
        "option.add_argument(\"--headless=new\")\n",
        "driver = webdriver.Chrome(\"C:\\\\chromedriver\\chromedriver.exe\", options=option)\n",
        "\n",
        "options = ChromeOptions()\n",
        "options.add_argument(\"--headless=new\")\n",
        "driver = webdriver.Chrome(options=option)"
      ]
    },
    {
      "cell_type": "markdown",
      "id": "613a87c4-afc0-4ae7-b622-a3b62142c087",
      "metadata": {
        "id": "613a87c4-afc0-4ae7-b622-a3b62142c087"
      },
      "source": [
        "# web driver setup\n",
        "# looping URLs to get span text"
      ]
    },
    {
      "cell_type": "code",
      "execution_count": null,
      "id": "f8bb1bf7-f27f-4cac-a80a-19989acecbae",
      "metadata": {
        "id": "f8bb1bf7-f27f-4cac-a80a-19989acecbae"
      },
      "outputs": [],
      "source": [
        "option = webdriver.ChromeOptions()\n",
        "prefs = {'profile.default_content_setting_values': {'images':2}}\n",
        "option.add_experimental_option('prefs', prefs)\n",
        "# option.add_argument(\"--headless=new\")\n",
        "driver = webdriver.Chrome(\"C:\\\\chromedriver\\chromedriver.exe\", options=option)\n",
        "\n",
        "Url_With_Coordinates = []\n",
        "\n",
        "for url in tqdmn(route.Link):\n",
        "    driver.get(url)\n",
        "    driver.implicitly_wait(10) # seconds\n",
        "    try:\n",
        "        xyz=driver.find_element(By.XPATH, \"//h2[contains(@class, 'bwoZTb')]/span\").text\n",
        "        # Url_With_Coordinates.append(driver.find_element_by_css_selector('meta[itemprop=image]').get_attribute('content')) #Default_3_years_ago\n",
        "        Url_With_Coordinates.append(xyz)\n",
        "    except:\n",
        "        xyz=('NULL')\n",
        "        Url_With_Coordinates.append(xyz)\n",
        "\n",
        "driver.close()"
      ]
    },
    {
      "cell_type": "markdown",
      "id": "a29431bb-d71a-4087-b91e-01430b27c6b6",
      "metadata": {
        "id": "a29431bb-d71a-4087-b91e-01430b27c6b6"
      },
      "source": [
        "# save urls into csv file"
      ]
    },
    {
      "cell_type": "code",
      "execution_count": null,
      "id": "2d27595e-4a0a-4920-bee3-68fcd29ff672",
      "metadata": {
        "id": "2d27595e-4a0a-4920-bee3-68fcd29ff672"
      },
      "outputs": [],
      "source": [
        "with open('Url_With_Coordinates.csv', 'w') as file:\n",
        "    wr = csv.writer(file)\n",
        "    wr.writerow(Url_With_Coordinates)"
      ]
    },
    {
      "cell_type": "markdown",
      "id": "d2e09a0c-7c4f-4edd-b07c-cdcb59032fba",
      "metadata": {
        "id": "d2e09a0c-7c4f-4edd-b07c-cdcb59032fba"
      },
      "source": [
        "# open saved csv"
      ]
    },
    {
      "cell_type": "code",
      "execution_count": null,
      "id": "f429d5d8-ec90-4ac7-98c6-7764f6b8011e",
      "metadata": {
        "id": "f429d5d8-ec90-4ac7-98c6-7764f6b8011e"
      },
      "outputs": [],
      "source": [
        "with open('Url_With_Coordinates.csv', 'r') as f:\n",
        "    reader = csv.reader(f, delimiter=',')\n",
        "    for i in reader:\n",
        "        Url_With_Coordinates = i\n",
        "        break"
      ]
    },
    {
      "cell_type": "markdown",
      "id": "d14046e4-6078-4145-8e18-f9fe4a38f6f2",
      "metadata": {
        "id": "d14046e4-6078-4145-8e18-f9fe4a38f6f2"
      },
      "source": [
        "# attach url column to imported xlsx data"
      ]
    },
    {
      "cell_type": "code",
      "execution_count": null,
      "id": "cbd42e04-042b-4576-89e1-41a0858ea4b6",
      "metadata": {
        "id": "cbd42e04-042b-4576-89e1-41a0858ea4b6"
      },
      "outputs": [],
      "source": [
        "route['Url_With_Coordinates'] = Url_With_Coordinates"
      ]
    },
    {
      "cell_type": "markdown",
      "id": "fc7be11d-3a14-4437-bc76-055195fee5b0",
      "metadata": {
        "id": "fc7be11d-3a14-4437-bc76-055195fee5b0"
      },
      "source": [
        "# export the data to csv"
      ]
    },
    {
      "cell_type": "code",
      "execution_count": null,
      "id": "f4fbce06-18bd-456d-886e-3f03964da81b",
      "metadata": {
        "id": "f4fbce06-18bd-456d-886e-3f03964da81b"
      },
      "outputs": [],
      "source": [
        "route.to_csv('route.csv')"
      ]
    }
  ],
  "metadata": {
    "kernelspec": {
      "display_name": "Python 3 (ipykernel)",
      "language": "python",
      "name": "python3"
    },
    "language_info": {
      "codemirror_mode": {
        "name": "ipython",
        "version": 3
      },
      "file_extension": ".py",
      "mimetype": "text/x-python",
      "name": "python",
      "nbconvert_exporter": "python",
      "pygments_lexer": "ipython3",
      "version": "3.9.16"
    },
    "colab": {
      "provenance": [],
      "include_colab_link": true
    }
  },
  "nbformat": 4,
  "nbformat_minor": 5
}